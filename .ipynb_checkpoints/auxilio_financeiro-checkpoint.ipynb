{
 "cells": [
  {
   "cell_type": "markdown",
   "metadata": {},
   "source": [
    "# Programming Project - Unit 3\n",
    "*by Débora Azevedo, Eliseu Jayro, Francisco de Paiva and Igor Brandão*\n",
    "\n",
    "**Goals**\n",
    "The purpose of this project is explore the following for us:\n",
    "\n",
    "- Access  UFRN data and present it using charts and tables;\n",
    "- Analysis and hypotheses should be explained in detail during the presentation;"
   ]
  },
  {
   "cell_type": "code",
   "execution_count": 2,
   "metadata": {
    "collapsed": true
   },
   "outputs": [],
   "source": [
    "import pandas as pd\n",
    "import matplotlib.pyplot as plt\n",
    "from os import path"
   ]
  },
  {
   "cell_type": "markdown",
   "metadata": {},
   "source": [
    "<h1>Requisições de Auxílios Financeiros aos Estudantes - UFRN</h1>"
   ]
  },
  {
   "cell_type": "markdown",
   "metadata": {},
   "source": [
    "### Compreender os dados financeiros das requisições de auxílios dos estudantes da UFRN \n",
    "\n",
    "O conteúdo da Tabela está descrito no site: http://dados.ufrn.br/dataset/2ddc6269-83bb-47d4-8c5e-b633b8682e75/resource/e63245da-b9cc-4e23-aabe-a8d361b96431/download/dicionario-de-dados---requisicoes-de-auxilios-financeiros-aos-estudantes.pdf Contém a relação de requisições de auxílio financeiro à estudantes da instituição.\n",
    "\n",
    "A estrutura principal da tabela de Requisições de Auxílios Financeiros pelos Estudantes:\n"
   ]
  },
  {
   "cell_type": "markdown",
   "metadata": {},
   "source": [
    "<img width=\"600\" alt=\"creating a repo\" src=\"https://drive.google.com/uc?export=view&id=1d1wY0cKBEA59iSO1Q2W-zmQQu5V0f_9t\">"
   ]
  },
  {
   "cell_type": "code",
   "execution_count": 3,
   "metadata": {},
   "outputs": [
    {
     "name": "stdout",
     "output_type": "stream",
     "text": [
      "(15724, 13)\n",
      "(115, 23)\n"
     ]
    }
   ],
   "source": [
    "# Define the datasets list\n",
    "data_files = [\n",
    "    \"requisicaoauxiliofinanceiroaoestudante.csv\",\n",
    "    \"cursos-de-graduacao.csv\",\n",
    "]\n",
    "\n",
    "# Define the dataSets path\n",
    "data_path = \"dataSets/\"\n",
    "\n",
    "# Declare the variable to keep all the data combined\n",
    "data = {}\n",
    "\n",
    "# Iterate through all dataSets\n",
    "for f in data_files:\n",
    "    # Perform the individual import of each dataSet separated by \";\"\n",
    "    d = pd.read_csv((data_path + \"{0}\").format(f), delimiter=\";\")\n",
    "    \n",
    "    # Define the key_name according to the dataSet filename\n",
    "    key_name = f.replace(\".csv\", \"\")\n",
    "    \n",
    "    # Apply the data to the key\n",
    "    data[key_name] = d\n",
    "    \n",
    "    # Print the imported dataSet shape (rows x cols)\n",
    "    print(d.shape)\n",
    "    "
   ]
  },
  {
   "cell_type": "code",
   "execution_count": 6,
   "metadata": {},
   "outputs": [
    {
     "data": {
      "text/html": [
       "<div>\n",
       "<style>\n",
       "    .dataframe thead tr:only-child th {\n",
       "        text-align: right;\n",
       "    }\n",
       "\n",
       "    .dataframe thead th {\n",
       "        text-align: left;\n",
       "    }\n",
       "\n",
       "    .dataframe tbody tr th {\n",
       "        vertical-align: top;\n",
       "    }\n",
       "</style>\n",
       "<table border=\"1\" class=\"dataframe\">\n",
       "  <thead>\n",
       "    <tr style=\"text-align: right;\">\n",
       "      <th></th>\n",
       "      <th>id_curso</th>\n",
       "      <th>nome</th>\n",
       "      <th>id_coordenador</th>\n",
       "      <th>coordenador</th>\n",
       "      <th>situacao_curso</th>\n",
       "      <th>nivel_ensino</th>\n",
       "      <th>grau_academico</th>\n",
       "      <th>modalidade_educacao</th>\n",
       "      <th>area_conhecimento</th>\n",
       "      <th>tipo_oferta</th>\n",
       "      <th>...</th>\n",
       "      <th>campus</th>\n",
       "      <th>id_unidade_responsavel</th>\n",
       "      <th>unidade_responsavel</th>\n",
       "      <th>website</th>\n",
       "      <th>data_funcionamento</th>\n",
       "      <th>codigo_inep</th>\n",
       "      <th>dou</th>\n",
       "      <th>portaria_reconhecimento</th>\n",
       "      <th>convenio_academico</th>\n",
       "      <th>Unnamed: 22</th>\n",
       "    </tr>\n",
       "  </thead>\n",
       "  <tbody>\n",
       "    <tr>\n",
       "      <th>0</th>\n",
       "      <td>2000002</td>\n",
       "      <td>ADMINISTRAÇÃO</td>\n",
       "      <td>20894.0</td>\n",
       "      <td>THELMA PIGNATARO</td>\n",
       "      <td>ATIVO</td>\n",
       "      <td>GRADUAÇÃO</td>\n",
       "      <td>BACHARELADO</td>\n",
       "      <td>Presencial</td>\n",
       "      <td>Ciências Sociais Aplicadas</td>\n",
       "      <td>Regular</td>\n",
       "      <td>...</td>\n",
       "      <td>Campus Central</td>\n",
       "      <td>443</td>\n",
       "      <td>CENTRO DE CIÊNCIAS SOCIAIS APLICADAS</td>\n",
       "      <td>http://sol.ccsa.ufrn.br/ccsa/areas/adm/adminis...</td>\n",
       "      <td>1971-09-16</td>\n",
       "      <td>12311.0</td>\n",
       "      <td>2017-04-04</td>\n",
       "      <td>Portaria nº 272/2017 - MEC</td>\n",
       "      <td>NaN</td>\n",
       "      <td>NaN</td>\n",
       "    </tr>\n",
       "    <tr>\n",
       "      <th>1</th>\n",
       "      <td>15315770</td>\n",
       "      <td>ADMINISTRAÇÃO PÚBLICA</td>\n",
       "      <td>23122.0</td>\n",
       "      <td>MATILDE MEDEIROS DE ARAÚJO</td>\n",
       "      <td>ATIVO</td>\n",
       "      <td>GRADUAÇÃO</td>\n",
       "      <td>BACHARELADO</td>\n",
       "      <td>A Distância</td>\n",
       "      <td>Ciências Sociais Aplicadas</td>\n",
       "      <td>Regular</td>\n",
       "      <td>...</td>\n",
       "      <td>NaN</td>\n",
       "      <td>443</td>\n",
       "      <td>CENTRO DE CIÊNCIAS SOCIAIS APLICADAS</td>\n",
       "      <td>NaN</td>\n",
       "      <td>NaN</td>\n",
       "      <td>1151028.0</td>\n",
       "      <td>2014-04-11</td>\n",
       "      <td>Portaria nº 226/2014 - DIREG/MEC</td>\n",
       "      <td>NaN</td>\n",
       "      <td>NaN</td>\n",
       "    </tr>\n",
       "    <tr>\n",
       "      <th>2</th>\n",
       "      <td>94598200</td>\n",
       "      <td>ANÁLISE E DESENVOLVIMENTO DE SISTEMAS</td>\n",
       "      <td>5757908.0</td>\n",
       "      <td>TANIRO CHACON RODRIGUES</td>\n",
       "      <td>ATIVO</td>\n",
       "      <td>GRADUAÇÃO</td>\n",
       "      <td>TECNOLÓGICO</td>\n",
       "      <td>Presencial</td>\n",
       "      <td>Outra</td>\n",
       "      <td>Anual</td>\n",
       "      <td>...</td>\n",
       "      <td>NaN</td>\n",
       "      <td>351</td>\n",
       "      <td>ESCOLA AGRÍCOLA DE JUNDIAÍ</td>\n",
       "      <td>NaN</td>\n",
       "      <td>NaN</td>\n",
       "      <td>1188193.0</td>\n",
       "      <td>2015-12-24</td>\n",
       "      <td>Portaria nº 1034/2015 - DIREG/MEC</td>\n",
       "      <td>NaN</td>\n",
       "      <td>NaN</td>\n",
       "    </tr>\n",
       "    <tr>\n",
       "      <th>3</th>\n",
       "      <td>2000005</td>\n",
       "      <td>ARQUITETURA E URBANISMO</td>\n",
       "      <td>5756800.0</td>\n",
       "      <td>GLAUCE LILIAN ALVES DE ALBUQUERQUE</td>\n",
       "      <td>ATIVO</td>\n",
       "      <td>GRADUAÇÃO</td>\n",
       "      <td>BACHARELADO</td>\n",
       "      <td>Presencial</td>\n",
       "      <td>Engenharias</td>\n",
       "      <td>Regular</td>\n",
       "      <td>...</td>\n",
       "      <td>Campus Central</td>\n",
       "      <td>445</td>\n",
       "      <td>CENTRO DE TECNOLOGIA</td>\n",
       "      <td>NaN</td>\n",
       "      <td>1973-08-13</td>\n",
       "      <td>12343.0</td>\n",
       "      <td>2015-12-30</td>\n",
       "      <td>Portaria nº 1098/2015 - DIREG/MEC</td>\n",
       "      <td>NaN</td>\n",
       "      <td>NaN</td>\n",
       "    </tr>\n",
       "    <tr>\n",
       "      <th>4</th>\n",
       "      <td>2000123</td>\n",
       "      <td>ARTES VISUAIS</td>\n",
       "      <td>5754967.0</td>\n",
       "      <td>ROGERIO JUNIOR CORREIA TAVARES</td>\n",
       "      <td>ATIVO</td>\n",
       "      <td>GRADUAÇÃO</td>\n",
       "      <td>LICENCIATURA</td>\n",
       "      <td>Presencial</td>\n",
       "      <td>Linguística, Letras e Artes</td>\n",
       "      <td>Regular</td>\n",
       "      <td>...</td>\n",
       "      <td>Campus Central</td>\n",
       "      <td>442</td>\n",
       "      <td>CENTRO DE CIÊNCIAS HUMANAS, LETRAS E ARTES</td>\n",
       "      <td>NaN</td>\n",
       "      <td>1977-03-03</td>\n",
       "      <td>95667.0</td>\n",
       "      <td>2015-12-30</td>\n",
       "      <td>Portaria nº 1098 - DIREG/MEC</td>\n",
       "      <td>NaN</td>\n",
       "      <td>NaN</td>\n",
       "    </tr>\n",
       "  </tbody>\n",
       "</table>\n",
       "<p>5 rows × 23 columns</p>\n",
       "</div>"
      ],
      "text/plain": [
       "   id_curso                                   nome  id_coordenador  \\\n",
       "0   2000002                          ADMINISTRAÇÃO         20894.0   \n",
       "1  15315770                  ADMINISTRAÇÃO PÚBLICA         23122.0   \n",
       "2  94598200  ANÁLISE E DESENVOLVIMENTO DE SISTEMAS       5757908.0   \n",
       "3   2000005                ARQUITETURA E URBANISMO       5756800.0   \n",
       "4   2000123                          ARTES VISUAIS       5754967.0   \n",
       "\n",
       "                          coordenador situacao_curso nivel_ensino  \\\n",
       "0                    THELMA PIGNATARO          ATIVO    GRADUAÇÃO   \n",
       "1          MATILDE MEDEIROS DE ARAÚJO          ATIVO    GRADUAÇÃO   \n",
       "2             TANIRO CHACON RODRIGUES          ATIVO    GRADUAÇÃO   \n",
       "3  GLAUCE LILIAN ALVES DE ALBUQUERQUE          ATIVO    GRADUAÇÃO   \n",
       "4      ROGERIO JUNIOR CORREIA TAVARES          ATIVO    GRADUAÇÃO   \n",
       "\n",
       "  grau_academico modalidade_educacao            area_conhecimento tipo_oferta  \\\n",
       "0    BACHARELADO          Presencial   Ciências Sociais Aplicadas     Regular   \n",
       "1    BACHARELADO         A Distância   Ciências Sociais Aplicadas     Regular   \n",
       "2    TECNOLÓGICO          Presencial                        Outra       Anual   \n",
       "3    BACHARELADO          Presencial                  Engenharias     Regular   \n",
       "4   LICENCIATURA          Presencial  Linguística, Letras e Artes     Regular   \n",
       "\n",
       "      ...              campus id_unidade_responsavel  \\\n",
       "0     ...      Campus Central                    443   \n",
       "1     ...                 NaN                    443   \n",
       "2     ...                 NaN                    351   \n",
       "3     ...      Campus Central                    445   \n",
       "4     ...      Campus Central                    442   \n",
       "\n",
       "                          unidade_responsavel  \\\n",
       "0        CENTRO DE CIÊNCIAS SOCIAIS APLICADAS   \n",
       "1        CENTRO DE CIÊNCIAS SOCIAIS APLICADAS   \n",
       "2                  ESCOLA AGRÍCOLA DE JUNDIAÍ   \n",
       "3                        CENTRO DE TECNOLOGIA   \n",
       "4  CENTRO DE CIÊNCIAS HUMANAS, LETRAS E ARTES   \n",
       "\n",
       "                                             website  data_funcionamento  \\\n",
       "0  http://sol.ccsa.ufrn.br/ccsa/areas/adm/adminis...          1971-09-16   \n",
       "1                                                NaN                 NaN   \n",
       "2                                                NaN                 NaN   \n",
       "3                                                NaN          1973-08-13   \n",
       "4                                                NaN          1977-03-03   \n",
       "\n",
       "  codigo_inep         dou            portaria_reconhecimento  \\\n",
       "0     12311.0  2017-04-04         Portaria nº 272/2017 - MEC   \n",
       "1   1151028.0  2014-04-11   Portaria nº 226/2014 - DIREG/MEC   \n",
       "2   1188193.0  2015-12-24  Portaria nº 1034/2015 - DIREG/MEC   \n",
       "3     12343.0  2015-12-30  Portaria nº 1098/2015 - DIREG/MEC   \n",
       "4     95667.0  2015-12-30       Portaria nº 1098 - DIREG/MEC   \n",
       "\n",
       "   convenio_academico Unnamed: 22  \n",
       "0                 NaN         NaN  \n",
       "1                 NaN         NaN  \n",
       "2                 NaN         NaN  \n",
       "3                 NaN         NaN  \n",
       "4                 NaN         NaN  \n",
       "\n",
       "[5 rows x 23 columns]"
      ]
     },
     "execution_count": 6,
     "metadata": {},
     "output_type": "execute_result"
    }
   ],
   "source": [
    "data['cursos-de-graduacao'].head()"
   ]
  },
  {
   "cell_type": "code",
   "execution_count": 10,
   "metadata": {},
   "outputs": [
    {
     "data": {
      "text/html": [
       "<div>\n",
       "<style>\n",
       "    .dataframe thead tr:only-child th {\n",
       "        text-align: right;\n",
       "    }\n",
       "\n",
       "    .dataframe thead th {\n",
       "        text-align: left;\n",
       "    }\n",
       "\n",
       "    .dataframe tbody tr th {\n",
       "        vertical-align: top;\n",
       "    }\n",
       "</style>\n",
       "<table border=\"1\" class=\"dataframe\">\n",
       "  <thead>\n",
       "    <tr style=\"text-align: right;\">\n",
       "      <th></th>\n",
       "      <th>numero</th>\n",
       "      <th>ano</th>\n",
       "      <th>proponente</th>\n",
       "      <th>id_unidade_requisitante</th>\n",
       "      <th>nome_unidade_requisitante</th>\n",
       "      <th>id_unidade_custo</th>\n",
       "      <th>nome_unidade_custo</th>\n",
       "      <th>data_cadastro</th>\n",
       "      <th>inicio_atividade</th>\n",
       "      <th>fim_atividade</th>\n",
       "      <th>valor</th>\n",
       "      <th>numero_alunos_beneficiados</th>\n",
       "      <th>status</th>\n",
       "    </tr>\n",
       "  </thead>\n",
       "  <tbody>\n",
       "    <tr>\n",
       "      <th>0</th>\n",
       "      <td>1161</td>\n",
       "      <td>2018</td>\n",
       "      <td>MARIA HELENA BRAGA E VAZ DA COSTA</td>\n",
       "      <td>315</td>\n",
       "      <td>PROGRAMA DE PÓS-GRADUAÇÃO EM GEOGRAFIA</td>\n",
       "      <td>315</td>\n",
       "      <td>PROGRAMA DE PÓS-GRADUAÇÃO EM GEOGRAFIA</td>\n",
       "      <td>19/09/2018</td>\n",
       "      <td>09/10/2018</td>\n",
       "      <td>11/10/2018</td>\n",
       "      <td>600.0</td>\n",
       "      <td>2</td>\n",
       "      <td>ENVIADA</td>\n",
       "    </tr>\n",
       "    <tr>\n",
       "      <th>1</th>\n",
       "      <td>1160</td>\n",
       "      <td>2018</td>\n",
       "      <td>TEREZINHA PETRUCIA DA NOBREGA</td>\n",
       "      <td>9226</td>\n",
       "      <td>PROGRAMA DE PÓS-GRADUAÇÃO EM EDUCAÇÃO FÍSICA -...</td>\n",
       "      <td>9226</td>\n",
       "      <td>PROGRAMA DE PÓS-GRADUAÇÃO EM EDUCAÇÃO FÍSICA -...</td>\n",
       "      <td>19/09/2018</td>\n",
       "      <td>25/09/2018</td>\n",
       "      <td>28/09/2018</td>\n",
       "      <td>930.0</td>\n",
       "      <td>4</td>\n",
       "      <td>ENVIADA</td>\n",
       "    </tr>\n",
       "    <tr>\n",
       "      <th>2</th>\n",
       "      <td>1159</td>\n",
       "      <td>2018</td>\n",
       "      <td>MARIA HELENA BRAGA E VAZ DA COSTA</td>\n",
       "      <td>315</td>\n",
       "      <td>PROGRAMA DE PÓS-GRADUAÇÃO EM GEOGRAFIA</td>\n",
       "      <td>315</td>\n",
       "      <td>PROGRAMA DE PÓS-GRADUAÇÃO EM GEOGRAFIA</td>\n",
       "      <td>19/09/2018</td>\n",
       "      <td>08/10/2018</td>\n",
       "      <td>11/10/2018</td>\n",
       "      <td>600.0</td>\n",
       "      <td>2</td>\n",
       "      <td>CADASTRADA</td>\n",
       "    </tr>\n",
       "    <tr>\n",
       "      <th>3</th>\n",
       "      <td>1158</td>\n",
       "      <td>2018</td>\n",
       "      <td>MARCILIO DE SOUZA VIEIRA</td>\n",
       "      <td>9207</td>\n",
       "      <td>PROGRAMA DE PÓS-GRADUAÇÃO EM ARTES CÊNICAS - FPG</td>\n",
       "      <td>9207</td>\n",
       "      <td>PROGRAMA DE PÓS-GRADUAÇÃO EM ARTES CÊNICAS - FPG</td>\n",
       "      <td>19/09/2018</td>\n",
       "      <td>25/09/2018</td>\n",
       "      <td>28/09/2018</td>\n",
       "      <td>800.0</td>\n",
       "      <td>1</td>\n",
       "      <td>ENVIADA</td>\n",
       "    </tr>\n",
       "    <tr>\n",
       "      <th>4</th>\n",
       "      <td>1157</td>\n",
       "      <td>2018</td>\n",
       "      <td>EBERTON JOSE DA SILVA FERREIRA</td>\n",
       "      <td>8067</td>\n",
       "      <td>SECRETARIA ADMINISTRATIVA DA DIRETORIA ADMINIS...</td>\n",
       "      <td>8067</td>\n",
       "      <td>SECRETARIA ADMINISTRATIVA DA DIRETORIA ADMINIS...</td>\n",
       "      <td>19/09/2018</td>\n",
       "      <td>20/09/2018</td>\n",
       "      <td>22/09/2018</td>\n",
       "      <td>80.0</td>\n",
       "      <td>1</td>\n",
       "      <td>AGUARDANDO_AUTORIZACAO_SAE</td>\n",
       "    </tr>\n",
       "  </tbody>\n",
       "</table>\n",
       "</div>"
      ],
      "text/plain": [
       "   numero   ano                         proponente  id_unidade_requisitante  \\\n",
       "0    1161  2018  MARIA HELENA BRAGA E VAZ DA COSTA                      315   \n",
       "1    1160  2018      TEREZINHA PETRUCIA DA NOBREGA                     9226   \n",
       "2    1159  2018  MARIA HELENA BRAGA E VAZ DA COSTA                      315   \n",
       "3    1158  2018           MARCILIO DE SOUZA VIEIRA                     9207   \n",
       "4    1157  2018     EBERTON JOSE DA SILVA FERREIRA                     8067   \n",
       "\n",
       "                           nome_unidade_requisitante  id_unidade_custo  \\\n",
       "0             PROGRAMA DE PÓS-GRADUAÇÃO EM GEOGRAFIA               315   \n",
       "1  PROGRAMA DE PÓS-GRADUAÇÃO EM EDUCAÇÃO FÍSICA -...              9226   \n",
       "2             PROGRAMA DE PÓS-GRADUAÇÃO EM GEOGRAFIA               315   \n",
       "3   PROGRAMA DE PÓS-GRADUAÇÃO EM ARTES CÊNICAS - FPG              9207   \n",
       "4  SECRETARIA ADMINISTRATIVA DA DIRETORIA ADMINIS...              8067   \n",
       "\n",
       "                                  nome_unidade_custo data_cadastro  \\\n",
       "0             PROGRAMA DE PÓS-GRADUAÇÃO EM GEOGRAFIA    19/09/2018   \n",
       "1  PROGRAMA DE PÓS-GRADUAÇÃO EM EDUCAÇÃO FÍSICA -...    19/09/2018   \n",
       "2             PROGRAMA DE PÓS-GRADUAÇÃO EM GEOGRAFIA    19/09/2018   \n",
       "3   PROGRAMA DE PÓS-GRADUAÇÃO EM ARTES CÊNICAS - FPG    19/09/2018   \n",
       "4  SECRETARIA ADMINISTRATIVA DA DIRETORIA ADMINIS...    19/09/2018   \n",
       "\n",
       "  inicio_atividade fim_atividade  valor  numero_alunos_beneficiados  \\\n",
       "0       09/10/2018    11/10/2018  600.0                           2   \n",
       "1       25/09/2018    28/09/2018  930.0                           4   \n",
       "2       08/10/2018    11/10/2018  600.0                           2   \n",
       "3       25/09/2018    28/09/2018  800.0                           1   \n",
       "4       20/09/2018    22/09/2018   80.0                           1   \n",
       "\n",
       "                       status  \n",
       "0                     ENVIADA  \n",
       "1                     ENVIADA  \n",
       "2                  CADASTRADA  \n",
       "3                     ENVIADA  \n",
       "4  AGUARDANDO_AUTORIZACAO_SAE  "
      ]
     },
     "execution_count": 10,
     "metadata": {},
     "output_type": "execute_result"
    }
   ],
   "source": [
    "data['requisicaoauxiliofinanceiroaoestudante'].head()"
   ]
  },
  {
   "cell_type": "code",
   "execution_count": 11,
   "metadata": {},
   "outputs": [
    {
     "data": {
      "text/plain": [
       "array([2018, 2017, 2016, 2015, 2014, 2013, 2012, 2011, 2010, 2009, 2008,\n",
       "       2007, 2006], dtype=int64)"
      ]
     },
     "execution_count": 11,
     "metadata": {},
     "output_type": "execute_result"
    }
   ],
   "source": [
    "#Identificando os anos que constam na tabela de requisições\n",
    "data['requisicaoauxiliofinanceiroaoestudante'].ano.unique()"
   ]
  },
  {
   "cell_type": "code",
   "execution_count": 13,
   "metadata": {},
   "outputs": [
    {
     "name": "stdout",
     "output_type": "stream",
     "text": [
      "Total de Unidades Envolvidas nos Auxílios: 610\n"
     ]
    }
   ],
   "source": [
    "print(\"Total de Unidades Envolvidas nos Auxílios: \" + str(len(data['requisicaoauxiliofinanceiroaoestudante'].nome_unidade_custo.unique())))\n"
   ]
  },
  {
   "cell_type": "code",
   "execution_count": 15,
   "metadata": {},
   "outputs": [
    {
     "name": "stdout",
     "output_type": "stream",
     "text": [
      "Total de Auxílios presentes na tabela original: 204412\n"
     ]
    }
   ],
   "source": [
    "print(\"Total de Auxílios presentes na tabela original: \" + str(data['requisicaoauxiliofinanceiroaoestudante'].size))"
   ]
  },
  {
   "cell_type": "markdown",
   "metadata": {},
   "source": [
    "### Realizar a limpeza dos dados para análise orçamentária durante os anos\n",
    "Levando em consideração a remoção de valores nulos somente considerando as colunas envolvidas na análise a seguir\n",
    "\n",
    "Eliminar colunas obrigatórias com valores nulos:"
   ]
  },
  {
   "cell_type": "code",
   "execution_count": 17,
   "metadata": {},
   "outputs": [
    {
     "name": "stdout",
     "output_type": "stream",
     "text": [
      "Total de Valores não nulos da tabela tratada: 204412\n"
     ]
    }
   ],
   "source": [
    "#Limpar somente as colunas obrigatórias a serem analisadas\n",
    "col_year_value_obgt = ['ano','valor', 'nome_unidade_custo', 'status']\n",
    "auxf_year_value_obgt = data['requisicaoauxiliofinanceiroaoestudante'].dropna(subset=col_year_value_obgt)\n",
    "print(\"Total de Valores não nulos da tabela tratada: \" + str(auxf_year_value_obgt.size))"
   ]
  },
  {
   "cell_type": "code",
   "execution_count": 24,
   "metadata": {},
   "outputs": [
    {
     "data": {
      "text/plain": [
       "array([2018, 2017, 2016, 2015, 2014, 2013, 2012, 2011, 2010, 2009, 2008,\n",
       "       2007, 2006], dtype=int64)"
      ]
     },
     "execution_count": 24,
     "metadata": {},
     "output_type": "execute_result"
    }
   ],
   "source": [
    "#únicos anos que correspondiam aos valores solicitados\n",
    "auxf_year_value_obgt.ano.unique()"
   ]
  },
  {
   "cell_type": "code",
   "execution_count": 25,
   "metadata": {},
   "outputs": [
    {
     "data": {
      "text/plain": [
       "27235"
      ]
     },
     "execution_count": 25,
     "metadata": {},
     "output_type": "execute_result"
    }
   ],
   "source": [
    "#realizar a remoção das requizições com status \n",
    "auxf_year_value_obgt[auxf_year_value_obgt.status=='FINALIZADA'].size"
   ]
  },
  {
   "cell_type": "markdown",
   "metadata": {},
   "source": [
    "#### Quais unidades de custo possuem mais requisições de Auxílio Financeiro?\n"
   ]
  },
  {
   "cell_type": "code",
   "execution_count": 55,
   "metadata": {},
   "outputs": [
    {
     "data": {
      "text/plain": [
       "AJUDA FINANCEIRA AO ESTUDANTE                        1403\n",
       "PRÓ-REITORIA DE ASSUNTOS ESTUDANTIS                   592\n",
       "CCHLA - SECRETARIA ADMINISTRAÇÃO DO CCHLA             534\n",
       "ESCOLA DE MÚSICA                                      471\n",
       "PROGRAMA DE PÓS-GRADUAÇÃO EM EDUCAÇÃO                 287\n",
       "PROGRAMA DE PÓS-GRADUAÇÃO EM ESTUDOS DA LINGUAGEM     250\n",
       "FACULDADE DE CIÊNCIAS DA SAÚDE DO TRAIRI - FACISA     226\n",
       "PROGRAMA DE PÓS-GRADUAÇÃO EM CIÊNCIAS SOCIAIS         225\n",
       "COORDENAÇÃO DO CURSO DE ENFERMAGEM                    208\n",
       "PROGRAMA DE PÓS-GRADUAÇÃO EM ECOLOGIA                 207\n",
       "Name: nome_unidade_custo, dtype: int64"
      ]
     },
     "execution_count": 55,
     "metadata": {},
     "output_type": "execute_result"
    }
   ],
   "source": [
    "#top 10 de unidades que mais solicitam requisições de auxílio financeiro\n",
    "top10 = auxf_year_value_obgt.nome_unidade_custo.value_counts()[:10]\n",
    "top10"
   ]
  },
  {
   "cell_type": "markdown",
   "metadata": {},
   "source": [
    "#### Quem são os proponentes que possuem maior número solicitação de requisições?"
   ]
  },
  {
   "cell_type": "code",
   "execution_count": 255,
   "metadata": {},
   "outputs": [
    {
     "data": {
      "text/plain": [
       "ADRIAN ANTONIO GARDA              95\n",
       "BRUNO TOMIO GOTO                  91\n",
       "ANA PAULA PEREIRA COMISSÁRIO      87\n",
       "JEAN JOUBERT FREITAS MENDES       81\n",
       "EBERTON JOSE DA SILVA FERREIRA    77\n",
       "JOSE PEREIRA DE MELO              76\n",
       "LUAN BRENDO ALMEIDA DOS SANTOS    68\n",
       "GUSTAVO ADOLFO LEAL COSTA         66\n",
       "RUBENS MARIBONDO DO NASCIMENTO    63\n",
       "EDVALDO BALDUINO BISPO            60\n",
       "Name: proponente, dtype: int64"
      ]
     },
     "execution_count": 255,
     "metadata": {},
     "output_type": "execute_result"
    }
   ],
   "source": [
    "#top 10 de proponentes com maior númeor de cadastro de requisições\n",
    "auxf_year_value_obgt.proponente.value_counts()[:10]"
   ]
  },
  {
   "cell_type": "code",
   "execution_count": 172,
   "metadata": {},
   "outputs": [
    {
     "data": {
      "text/plain": [
       "array(['ENVIADA', 'CADASTRADA', 'AGUARDANDO_AUTORIZACAO_SAE', 'LIQUIDADA',\n",
       "       'ATENDIDA', 'ESTORNADA', 'FINALIZADA', 'EM_LIQUIDACAO',\n",
       "       'A_EMPENHAR', 'EMPENHO_ANULADO', 'NEGADA', 'CANCELADA\\n'],\n",
       "      dtype=object)"
      ]
     },
     "execution_count": 172,
     "metadata": {},
     "output_type": "execute_result"
    }
   ],
   "source": [
    "auxf_year_value_obgt.status.unique()"
   ]
  },
  {
   "cell_type": "code",
   "execution_count": 173,
   "metadata": {},
   "outputs": [
    {
     "name": "stdout",
     "output_type": "stream",
     "text": [
      "204412\n",
      "52611\n"
     ]
    }
   ],
   "source": [
    "print(auxilios.size)\n",
    "print(auxilios_tratado.size)"
   ]
  },
  {
   "cell_type": "code",
   "execution_count": 175,
   "metadata": {},
   "outputs": [
    {
     "data": {
      "text/plain": [
       "array([2018, 2017, 2016, 2015, 2014, 2013, 2012, 2011, 2010, 2009, 2008,\n",
       "       2007, 2006], dtype=int64)"
      ]
     },
     "execution_count": 175,
     "metadata": {},
     "output_type": "execute_result"
    }
   ],
   "source": [
    "#após a limpeza por colunas obrigatórias, percebeu-se a inexistênciias de anos anteriores a 2015\n",
    "auxf_year_value_obgt.ano.unique()"
   ]
  },
  {
   "cell_type": "code",
   "execution_count": 64,
   "metadata": {
    "collapsed": true
   },
   "outputs": [],
   "source": [
    "valores_ano = [auxf_year_value_obgt[auxf_year_value_obgt['ano']==value].valor.sum()/1000 for value in auxf_year_value_obgt.ano.unique() ]\n",
    "anos = auxf_year_value_obgt.ano.unique()"
   ]
  },
  {
   "cell_type": "code",
   "execution_count": 246,
   "metadata": {},
   "outputs": [
    {
     "data": {
      "text/plain": [
       "[1844.08732,\n",
       " 2440.33258,\n",
       " 1977.73206,\n",
       " 2383.53182,\n",
       " 3269.61791,\n",
       " 2610.053,\n",
       " 1924.21758,\n",
       " 1365.5308699999998,\n",
       " 711.85966,\n",
       " 575.84754,\n",
       " 664.4834199999999,\n",
       " 473.38893,\n",
       " 157.44010999999998]"
      ]
     },
     "execution_count": 246,
     "metadata": {},
     "output_type": "execute_result"
    }
   ],
   "source": [
    "valores_ano"
   ]
  },
  {
   "cell_type": "code",
   "execution_count": 248,
   "metadata": {},
   "outputs": [
    {
     "data": {
      "image/png": "[encoded data removed]",
      "text/plain": [
       "<Figure size 432x288 with 1 Axes>"
      ]
     },
     "metadata": {},
     "output_type": "display_data"
    }
   ],
   "source": [
    "plt.plot(anos, valores_ano, 'r')\n",
    "plt.scatter(anos, valores_ano, color='red')\n",
    "plt.xlabel(\"Ano\")\n",
    "plt.ylabel(\"Valor Orçamentário\")\n",
    "plt.xticks(anos)\n",
    "plt.title(\"Gastos Orçamentários Durante os Anos\")\n",
    "plt.show()"
   ]
  },
  {
   "cell_type": "markdown",
   "metadata": {},
   "source": [
    "Em 2014 ocorreu o pico das solicitações de assistência, com descida nos dois anos seguintes, e novamente almentado três anos depois"
   ]
  },
  {
   "cell_type": "code",
   "execution_count": 65,
   "metadata": {},
   "outputs": [],
   "source": [
    "from bokeh.plotting import figure, show\n",
    "vbar = figure(plot_width=400, plot_height=400)\n",
    "vbar.vbar(x=anos, width=0.5, top=valores_ano, color=\"firebrick\")\n",
    "show(vbar)"
   ]
  },
  {
   "cell_type": "markdown",
   "metadata": {},
   "source": [
    "<iframe width=\"600\" height=\"300\" src=\"http://dados.ufrn.br/dataset/requisicao-de-auxilio-financeiro-ao-estudante/resource/e63245da-b9cc-4e23-aabe-a8d361b96431/view/837b2d29-c528-4de6-999b-a93d6234fb06\" frameBorder=\"0\">ssdasd</iframe>"
   ]
  }
 ],
 "metadata": {
  "kernelspec": {
   "display_name": "Python 3",
   "language": "python",
   "name": "python3"
  },
  "language_info": {
   "codemirror_mode": {
    "name": "ipython",
    "version": 3
   },
   "file_extension": ".py",
   "mimetype": "text/x-python",
   "name": "python",
   "nbconvert_exporter": "python",
   "pygments_lexer": "ipython3",
   "version": "3.6.1"
  }
 },
 "nbformat": 4,
 "nbformat_minor": 2
}
