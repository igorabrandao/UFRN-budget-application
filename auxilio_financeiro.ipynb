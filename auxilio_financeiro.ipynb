{
 "cells": [
  {
   "cell_type": "markdown",
   "metadata": {},
   "source": [
    "# Programming Project - Unit 3\n",
    "*by Débora Azevedo, Eliseu Jayro, Francisco de Paiva and Igor Brandão*\n",
    "\n",
    "**Goals**\n",
    "The purpose of this project is explore the following:\n",
    "\n",
    "- Access Health Graph API - Runkeeper content;\n",
    "- Geolocation analysis and hypotheses should be explained in detail;"
   ]
  },
  {
   "cell_type": "markdown",
   "metadata": {},
   "source": [
    "<h1>Requisições de Auxílios Financeiros aos Estudantes - UFRN</h1>"
   ]
  },
  {
   "cell_type": "markdown",
   "metadata": {},
   "source": [
    "### Compreender os dados financeiros das requisições de auxílios dos estudantes da UFRN \n",
    "Esta é uma base de dados realizada para descrever as solicitações de auxílio financeiro para participações de eventos de caráter acadêmico que sejam de interesse institucional, realizadas pelos discentes, aos estudantes da universidade.\n",
    "\n",
    "- O conteúdo da Tabela está descrita no site:\n",
    "http://dados.ufrn.br/dataset/2ddc6269-83bb-47d4-8c5e-b633b8682e75/resource/e63245da-b9cc-4e23-aabe-a8d361b96431/download/dicionario-de-dados---requisicoes-de-auxilios-financeiros-aos-estudantes.pdf \n",
    "Contém a relação de requisições de auxílio financeiro à estudantes da instituição.\n",
    "\n",
    "- As instruções de como realizar o procedimento de solicitação de requizição pode ser vista aqui:\n",
    "https://docs.info.ufrn.br/lib/exe/fetch.php?media=suporte:treinamento:guiapratico08_-_auxilio_financeiro_ao_estudante.pdf\n",
    "\n",
    "*\"[...] A resolução de número 27/2010 do Conselho de Administração da UFRN estabelece que o auxílio financeiro a estudantes poderá ser concedido em caráter excepcional e se destina a alunos devidamente matriculados na UFRN em cursos de graduação, pós-graduação em sentido estrito, cursos de nível médio e técnico profissionalizante, que necessitarem de apoio para <b>participar de atividades/eventos de caráter técnico-científico, didático-pedagógico, esportivo, cultural</b> oficialmente reconhecidas que sejam de interesse institucional.\"*\n",
    "https://www.ufrn.br/imprensa/noticias/18898/requisicao-de-auxilio-financeiro-podera-ser-feito-de-forma-eletronico\n",
    "\n",
    "A estrutura principal da tabela de Requisições de Auxílios Financeiros pelos Estudantes:\n"
   ]
  },
  {
   "cell_type": "markdown",
   "metadata": {},
   "source": [
    "<img width=\"600\" alt=\"creating a repo\" src=\"https://drive.google.com/uc?export=view&id=1d1wY0cKBEA59iSO1Q2W-zmQQu5V0f_9t\">"
   ]
  },
  {
   "cell_type": "code",
   "execution_count": 119,
   "metadata": {
    "collapsed": true
   },
   "outputs": [],
   "source": [
    "import pandas as pd\n",
    "import matplotlib.pyplot as plt\n",
    "from os import path\n",
    "dataset_names = ['requisicaoauxiliofinanceiroaoestudante.csv']\n",
    "dataset_path = 'datasets'\n",
    "\n",
    "data = {}\n",
    "\n",
    "for name in dataset_names:\n",
    "    data[name[:-4]] = pd.read_csv(path.join(dataset_path, name), sep=';', low_memory=False)"
   ]
  },
  {
   "cell_type": "code",
   "execution_count": 120,
   "metadata": {},
   "outputs": [
    {
     "data": {
      "text/plain": [
       "array([2018, 2017, 2016, 2015, 2014, 2013, 2012, 2011, 2010, 2009, 2008,\n",
       "       2007, 2006], dtype=int64)"
      ]
     },
     "execution_count": 120,
     "metadata": {},
     "output_type": "execute_result"
    }
   ],
   "source": [
    "#Identificando os anos que constam na tabela de requisições\n",
    "data['requisicaoauxiliofinanceiroaoestudante'].ano.unique()"
   ]
  },
  {
   "cell_type": "code",
   "execution_count": 121,
   "metadata": {},
   "outputs": [
    {
     "name": "stdout",
     "output_type": "stream",
     "text": [
      "<class 'pandas.core.frame.DataFrame'>\n",
      "RangeIndex: 15724 entries, 0 to 15723\n",
      "Data columns (total 13 columns):\n",
      "numero                        15724 non-null int64\n",
      "ano                           15724 non-null int64\n",
      "proponente                    4047 non-null object\n",
      "id_unidade_requisitante       15724 non-null int64\n",
      "nome_unidade_requisitante     15724 non-null object\n",
      "id_unidade_custo              15724 non-null int64\n",
      "nome_unidade_custo            15724 non-null object\n",
      "data_cadastro                 15724 non-null object\n",
      "inicio_atividade              14183 non-null object\n",
      "fim_atividade                 14183 non-null object\n",
      "valor                         15724 non-null float64\n",
      "numero_alunos_beneficiados    15724 non-null int64\n",
      "status                        15724 non-null object\n",
      "dtypes: float64(1), int64(5), object(7)\n",
      "memory usage: 1.6+ MB\n"
     ]
    }
   ],
   "source": [
    "#visualizando a estrutura da tabela\n",
    "data['requisicaoauxiliofinanceiroaoestudante'].info()"
   ]
  },
  {
   "cell_type": "code",
   "execution_count": 122,
   "metadata": {},
   "outputs": [
    {
     "data": {
      "text/html": [
       "<div>\n",
       "<style>\n",
       "    .dataframe thead tr:only-child th {\n",
       "        text-align: right;\n",
       "    }\n",
       "\n",
       "    .dataframe thead th {\n",
       "        text-align: left;\n",
       "    }\n",
       "\n",
       "    .dataframe tbody tr th {\n",
       "        vertical-align: top;\n",
       "    }\n",
       "</style>\n",
       "<table border=\"1\" class=\"dataframe\">\n",
       "  <thead>\n",
       "    <tr style=\"text-align: right;\">\n",
       "      <th></th>\n",
       "      <th>numero</th>\n",
       "      <th>ano</th>\n",
       "      <th>proponente</th>\n",
       "      <th>id_unidade_requisitante</th>\n",
       "      <th>nome_unidade_requisitante</th>\n",
       "      <th>id_unidade_custo</th>\n",
       "      <th>nome_unidade_custo</th>\n",
       "      <th>data_cadastro</th>\n",
       "      <th>inicio_atividade</th>\n",
       "      <th>fim_atividade</th>\n",
       "      <th>valor</th>\n",
       "      <th>numero_alunos_beneficiados</th>\n",
       "      <th>status</th>\n",
       "    </tr>\n",
       "  </thead>\n",
       "  <tbody>\n",
       "    <tr>\n",
       "      <th>0</th>\n",
       "      <td>1161</td>\n",
       "      <td>2018</td>\n",
       "      <td>MARIA HELENA BRAGA E VAZ DA COSTA</td>\n",
       "      <td>315</td>\n",
       "      <td>PROGRAMA DE PÓS-GRADUAÇÃO EM GEOGRAFIA</td>\n",
       "      <td>315</td>\n",
       "      <td>PROGRAMA DE PÓS-GRADUAÇÃO EM GEOGRAFIA</td>\n",
       "      <td>19/09/2018</td>\n",
       "      <td>09/10/2018</td>\n",
       "      <td>11/10/2018</td>\n",
       "      <td>600.0</td>\n",
       "      <td>2</td>\n",
       "      <td>ENVIADA</td>\n",
       "    </tr>\n",
       "    <tr>\n",
       "      <th>1</th>\n",
       "      <td>1160</td>\n",
       "      <td>2018</td>\n",
       "      <td>TEREZINHA PETRUCIA DA NOBREGA</td>\n",
       "      <td>9226</td>\n",
       "      <td>PROGRAMA DE PÓS-GRADUAÇÃO EM EDUCAÇÃO FÍSICA -...</td>\n",
       "      <td>9226</td>\n",
       "      <td>PROGRAMA DE PÓS-GRADUAÇÃO EM EDUCAÇÃO FÍSICA -...</td>\n",
       "      <td>19/09/2018</td>\n",
       "      <td>25/09/2018</td>\n",
       "      <td>28/09/2018</td>\n",
       "      <td>930.0</td>\n",
       "      <td>4</td>\n",
       "      <td>ENVIADA</td>\n",
       "    </tr>\n",
       "    <tr>\n",
       "      <th>2</th>\n",
       "      <td>1159</td>\n",
       "      <td>2018</td>\n",
       "      <td>MARIA HELENA BRAGA E VAZ DA COSTA</td>\n",
       "      <td>315</td>\n",
       "      <td>PROGRAMA DE PÓS-GRADUAÇÃO EM GEOGRAFIA</td>\n",
       "      <td>315</td>\n",
       "      <td>PROGRAMA DE PÓS-GRADUAÇÃO EM GEOGRAFIA</td>\n",
       "      <td>19/09/2018</td>\n",
       "      <td>08/10/2018</td>\n",
       "      <td>11/10/2018</td>\n",
       "      <td>600.0</td>\n",
       "      <td>2</td>\n",
       "      <td>CADASTRADA</td>\n",
       "    </tr>\n",
       "    <tr>\n",
       "      <th>3</th>\n",
       "      <td>1158</td>\n",
       "      <td>2018</td>\n",
       "      <td>MARCILIO DE SOUZA VIEIRA</td>\n",
       "      <td>9207</td>\n",
       "      <td>PROGRAMA DE PÓS-GRADUAÇÃO EM ARTES CÊNICAS - FPG</td>\n",
       "      <td>9207</td>\n",
       "      <td>PROGRAMA DE PÓS-GRADUAÇÃO EM ARTES CÊNICAS - FPG</td>\n",
       "      <td>19/09/2018</td>\n",
       "      <td>25/09/2018</td>\n",
       "      <td>28/09/2018</td>\n",
       "      <td>800.0</td>\n",
       "      <td>1</td>\n",
       "      <td>ENVIADA</td>\n",
       "    </tr>\n",
       "    <tr>\n",
       "      <th>4</th>\n",
       "      <td>1157</td>\n",
       "      <td>2018</td>\n",
       "      <td>EBERTON JOSE DA SILVA FERREIRA</td>\n",
       "      <td>8067</td>\n",
       "      <td>SECRETARIA ADMINISTRATIVA DA DIRETORIA ADMINIS...</td>\n",
       "      <td>8067</td>\n",
       "      <td>SECRETARIA ADMINISTRATIVA DA DIRETORIA ADMINIS...</td>\n",
       "      <td>19/09/2018</td>\n",
       "      <td>20/09/2018</td>\n",
       "      <td>22/09/2018</td>\n",
       "      <td>80.0</td>\n",
       "      <td>1</td>\n",
       "      <td>AGUARDANDO_AUTORIZACAO_SAE</td>\n",
       "    </tr>\n",
       "  </tbody>\n",
       "</table>\n",
       "</div>"
      ],
      "text/plain": [
       "   numero   ano                         proponente  id_unidade_requisitante  \\\n",
       "0    1161  2018  MARIA HELENA BRAGA E VAZ DA COSTA                      315   \n",
       "1    1160  2018      TEREZINHA PETRUCIA DA NOBREGA                     9226   \n",
       "2    1159  2018  MARIA HELENA BRAGA E VAZ DA COSTA                      315   \n",
       "3    1158  2018           MARCILIO DE SOUZA VIEIRA                     9207   \n",
       "4    1157  2018     EBERTON JOSE DA SILVA FERREIRA                     8067   \n",
       "\n",
       "                           nome_unidade_requisitante  id_unidade_custo  \\\n",
       "0             PROGRAMA DE PÓS-GRADUAÇÃO EM GEOGRAFIA               315   \n",
       "1  PROGRAMA DE PÓS-GRADUAÇÃO EM EDUCAÇÃO FÍSICA -...              9226   \n",
       "2             PROGRAMA DE PÓS-GRADUAÇÃO EM GEOGRAFIA               315   \n",
       "3   PROGRAMA DE PÓS-GRADUAÇÃO EM ARTES CÊNICAS - FPG              9207   \n",
       "4  SECRETARIA ADMINISTRATIVA DA DIRETORIA ADMINIS...              8067   \n",
       "\n",
       "                                  nome_unidade_custo data_cadastro  \\\n",
       "0             PROGRAMA DE PÓS-GRADUAÇÃO EM GEOGRAFIA    19/09/2018   \n",
       "1  PROGRAMA DE PÓS-GRADUAÇÃO EM EDUCAÇÃO FÍSICA -...    19/09/2018   \n",
       "2             PROGRAMA DE PÓS-GRADUAÇÃO EM GEOGRAFIA    19/09/2018   \n",
       "3   PROGRAMA DE PÓS-GRADUAÇÃO EM ARTES CÊNICAS - FPG    19/09/2018   \n",
       "4  SECRETARIA ADMINISTRATIVA DA DIRETORIA ADMINIS...    19/09/2018   \n",
       "\n",
       "  inicio_atividade fim_atividade  valor  numero_alunos_beneficiados  \\\n",
       "0       09/10/2018    11/10/2018  600.0                           2   \n",
       "1       25/09/2018    28/09/2018  930.0                           4   \n",
       "2       08/10/2018    11/10/2018  600.0                           2   \n",
       "3       25/09/2018    28/09/2018  800.0                           1   \n",
       "4       20/09/2018    22/09/2018   80.0                           1   \n",
       "\n",
       "                       status  \n",
       "0                     ENVIADA  \n",
       "1                     ENVIADA  \n",
       "2                  CADASTRADA  \n",
       "3                     ENVIADA  \n",
       "4  AGUARDANDO_AUTORIZACAO_SAE  "
      ]
     },
     "execution_count": 122,
     "metadata": {},
     "output_type": "execute_result"
    }
   ],
   "source": [
    "data['requisicaoauxiliofinanceiroaoestudante'].head()"
   ]
  },
  {
   "cell_type": "code",
   "execution_count": 123,
   "metadata": {},
   "outputs": [
    {
     "name": "stdout",
     "output_type": "stream",
     "text": [
      "Total de Auxílios presentes na tabela original: 204412\n"
     ]
    }
   ],
   "source": [
    "print(\"Total de Auxílios presentes na tabela original: \" + str(data['requisicaoauxiliofinanceiroaoestudante'].size))"
   ]
  },
  {
   "cell_type": "markdown",
   "metadata": {},
   "source": [
    "### Realizar a limpeza dos dados para análise orçamentária durante os anos\n",
    "Remoção de colunas que não farão parte da análise (\"numero\" e \"proponente\") e remoção de valores nulos das colunas a serem analizadas."
   ]
  },
  {
   "cell_type": "code",
   "execution_count": 124,
   "metadata": {},
   "outputs": [
    {
     "data": {
      "text/html": [
       "<div>\n",
       "<style>\n",
       "    .dataframe thead tr:only-child th {\n",
       "        text-align: right;\n",
       "    }\n",
       "\n",
       "    .dataframe thead th {\n",
       "        text-align: left;\n",
       "    }\n",
       "\n",
       "    .dataframe tbody tr th {\n",
       "        vertical-align: top;\n",
       "    }\n",
       "</style>\n",
       "<table border=\"1\" class=\"dataframe\">\n",
       "  <thead>\n",
       "    <tr style=\"text-align: right;\">\n",
       "      <th></th>\n",
       "      <th>ano</th>\n",
       "      <th>id_unidade_requisitante</th>\n",
       "      <th>nome_unidade_requisitante</th>\n",
       "      <th>id_unidade_custo</th>\n",
       "      <th>nome_unidade_custo</th>\n",
       "      <th>data_cadastro</th>\n",
       "      <th>inicio_atividade</th>\n",
       "      <th>fim_atividade</th>\n",
       "      <th>valor</th>\n",
       "      <th>numero_alunos_beneficiados</th>\n",
       "      <th>status</th>\n",
       "    </tr>\n",
       "  </thead>\n",
       "  <tbody>\n",
       "    <tr>\n",
       "      <th>0</th>\n",
       "      <td>2018</td>\n",
       "      <td>315</td>\n",
       "      <td>PROGRAMA DE PÓS-GRADUAÇÃO EM GEOGRAFIA</td>\n",
       "      <td>315</td>\n",
       "      <td>PROGRAMA DE PÓS-GRADUAÇÃO EM GEOGRAFIA</td>\n",
       "      <td>19/09/2018</td>\n",
       "      <td>09/10/2018</td>\n",
       "      <td>11/10/2018</td>\n",
       "      <td>600.0</td>\n",
       "      <td>2</td>\n",
       "      <td>ENVIADA</td>\n",
       "    </tr>\n",
       "    <tr>\n",
       "      <th>1</th>\n",
       "      <td>2018</td>\n",
       "      <td>9226</td>\n",
       "      <td>PROGRAMA DE PÓS-GRADUAÇÃO EM EDUCAÇÃO FÍSICA -...</td>\n",
       "      <td>9226</td>\n",
       "      <td>PROGRAMA DE PÓS-GRADUAÇÃO EM EDUCAÇÃO FÍSICA -...</td>\n",
       "      <td>19/09/2018</td>\n",
       "      <td>25/09/2018</td>\n",
       "      <td>28/09/2018</td>\n",
       "      <td>930.0</td>\n",
       "      <td>4</td>\n",
       "      <td>ENVIADA</td>\n",
       "    </tr>\n",
       "    <tr>\n",
       "      <th>2</th>\n",
       "      <td>2018</td>\n",
       "      <td>315</td>\n",
       "      <td>PROGRAMA DE PÓS-GRADUAÇÃO EM GEOGRAFIA</td>\n",
       "      <td>315</td>\n",
       "      <td>PROGRAMA DE PÓS-GRADUAÇÃO EM GEOGRAFIA</td>\n",
       "      <td>19/09/2018</td>\n",
       "      <td>08/10/2018</td>\n",
       "      <td>11/10/2018</td>\n",
       "      <td>600.0</td>\n",
       "      <td>2</td>\n",
       "      <td>CADASTRADA</td>\n",
       "    </tr>\n",
       "    <tr>\n",
       "      <th>3</th>\n",
       "      <td>2018</td>\n",
       "      <td>9207</td>\n",
       "      <td>PROGRAMA DE PÓS-GRADUAÇÃO EM ARTES CÊNICAS - FPG</td>\n",
       "      <td>9207</td>\n",
       "      <td>PROGRAMA DE PÓS-GRADUAÇÃO EM ARTES CÊNICAS - FPG</td>\n",
       "      <td>19/09/2018</td>\n",
       "      <td>25/09/2018</td>\n",
       "      <td>28/09/2018</td>\n",
       "      <td>800.0</td>\n",
       "      <td>1</td>\n",
       "      <td>ENVIADA</td>\n",
       "    </tr>\n",
       "    <tr>\n",
       "      <th>4</th>\n",
       "      <td>2018</td>\n",
       "      <td>8067</td>\n",
       "      <td>SECRETARIA ADMINISTRATIVA DA DIRETORIA ADMINIS...</td>\n",
       "      <td>8067</td>\n",
       "      <td>SECRETARIA ADMINISTRATIVA DA DIRETORIA ADMINIS...</td>\n",
       "      <td>19/09/2018</td>\n",
       "      <td>20/09/2018</td>\n",
       "      <td>22/09/2018</td>\n",
       "      <td>80.0</td>\n",
       "      <td>1</td>\n",
       "      <td>AGUARDANDO_AUTORIZACAO_SAE</td>\n",
       "    </tr>\n",
       "  </tbody>\n",
       "</table>\n",
       "</div>"
      ],
      "text/plain": [
       "    ano  id_unidade_requisitante  \\\n",
       "0  2018                      315   \n",
       "1  2018                     9226   \n",
       "2  2018                      315   \n",
       "3  2018                     9207   \n",
       "4  2018                     8067   \n",
       "\n",
       "                           nome_unidade_requisitante  id_unidade_custo  \\\n",
       "0             PROGRAMA DE PÓS-GRADUAÇÃO EM GEOGRAFIA               315   \n",
       "1  PROGRAMA DE PÓS-GRADUAÇÃO EM EDUCAÇÃO FÍSICA -...              9226   \n",
       "2             PROGRAMA DE PÓS-GRADUAÇÃO EM GEOGRAFIA               315   \n",
       "3   PROGRAMA DE PÓS-GRADUAÇÃO EM ARTES CÊNICAS - FPG              9207   \n",
       "4  SECRETARIA ADMINISTRATIVA DA DIRETORIA ADMINIS...              8067   \n",
       "\n",
       "                                  nome_unidade_custo data_cadastro  \\\n",
       "0             PROGRAMA DE PÓS-GRADUAÇÃO EM GEOGRAFIA    19/09/2018   \n",
       "1  PROGRAMA DE PÓS-GRADUAÇÃO EM EDUCAÇÃO FÍSICA -...    19/09/2018   \n",
       "2             PROGRAMA DE PÓS-GRADUAÇÃO EM GEOGRAFIA    19/09/2018   \n",
       "3   PROGRAMA DE PÓS-GRADUAÇÃO EM ARTES CÊNICAS - FPG    19/09/2018   \n",
       "4  SECRETARIA ADMINISTRATIVA DA DIRETORIA ADMINIS...    19/09/2018   \n",
       "\n",
       "  inicio_atividade fim_atividade  valor  numero_alunos_beneficiados  \\\n",
       "0       09/10/2018    11/10/2018  600.0                           2   \n",
       "1       25/09/2018    28/09/2018  930.0                           4   \n",
       "2       08/10/2018    11/10/2018  600.0                           2   \n",
       "3       25/09/2018    28/09/2018  800.0                           1   \n",
       "4       20/09/2018    22/09/2018   80.0                           1   \n",
       "\n",
       "                       status  \n",
       "0                     ENVIADA  \n",
       "1                     ENVIADA  \n",
       "2                  CADASTRADA  \n",
       "3                     ENVIADA  \n",
       "4  AGUARDANDO_AUTORIZACAO_SAE  "
      ]
     },
     "execution_count": 124,
     "metadata": {},
     "output_type": "execute_result"
    }
   ],
   "source": [
    "#remover colunas desnecessárias\n",
    "auxilios = data['requisicaoauxiliofinanceiroaoestudante'].copy()\n",
    "auxilios = auxilios.drop(['numero','proponente'], axis=1)\n",
    "auxilios = auxilios.dropna()\n",
    "auxilios.head()"
   ]
  },
  {
   "cell_type": "code",
   "execution_count": 125,
   "metadata": {},
   "outputs": [
    {
     "name": "stdout",
     "output_type": "stream",
     "text": [
      "<class 'pandas.core.frame.DataFrame'>\n",
      "Int64Index: 14183 entries, 0 to 14182\n",
      "Data columns (total 11 columns):\n",
      "ano                           14183 non-null int64\n",
      "id_unidade_requisitante       14183 non-null int64\n",
      "nome_unidade_requisitante     14183 non-null object\n",
      "id_unidade_custo              14183 non-null int64\n",
      "nome_unidade_custo            14183 non-null object\n",
      "data_cadastro                 14183 non-null object\n",
      "inicio_atividade              14183 non-null object\n",
      "fim_atividade                 14183 non-null object\n",
      "valor                         14183 non-null float64\n",
      "numero_alunos_beneficiados    14183 non-null int64\n",
      "status                        14183 non-null object\n",
      "dtypes: float64(1), int64(4), object(6)\n",
      "memory usage: 1.3+ MB\n"
     ]
    }
   ],
   "source": [
    "auxilios.info()"
   ]
  },
  {
   "cell_type": "code",
   "execution_count": 126,
   "metadata": {},
   "outputs": [
    {
     "name": "stdout",
     "output_type": "stream",
     "text": [
      "Total de Auxílios presentes na tabela tratada: 156013\n"
     ]
    }
   ],
   "source": [
    "print(\"Total de Auxílios presentes na tabela tratada: \" + str(auxilios.size))"
   ]
  },
  {
   "cell_type": "markdown",
   "metadata": {},
   "source": [
    "## Análises na tabela Auxílios"
   ]
  },
  {
   "cell_type": "code",
   "execution_count": 127,
   "metadata": {},
   "outputs": [
    {
     "data": {
      "text/plain": [
       "array([2018, 2017, 2016, 2015, 2014, 2013, 2012, 2011, 2010, 2009], dtype=int64)"
      ]
     },
     "execution_count": 127,
     "metadata": {},
     "output_type": "execute_result"
    }
   ],
   "source": [
    "#únicos anos que correspondiam aos valores solicitados\n",
    "auxilios.ano.unique()"
   ]
  },
  {
   "cell_type": "markdown",
   "metadata": {},
   "source": [
    "#### Quais unidades de custo possuem mais requisições de Auxílio Financeiro?\n"
   ]
  },
  {
   "cell_type": "code",
   "execution_count": 30,
   "metadata": {},
   "outputs": [
    {
     "data": {
      "text/plain": [
       "AJUDA FINANCEIRA AO ESTUDANTE                        1286\n",
       "CCHLA - SECRETARIA ADMINISTRAÇÃO DO CCHLA             524\n",
       "PROGRAMA DE PÓS-GRADUAÇÃO EM EDUCAÇÃO                 287\n",
       "ESCOLA DE MÚSICA                                      266\n",
       "PROGRAMA DE PÓS-GRADUAÇÃO EM ESTUDOS DA LINGUAGEM     250\n",
       "FACULDADE DE CIÊNCIAS DA SAÚDE DO TRAIRI - FACISA     226\n",
       "PROGRAMA DE PÓS-GRADUAÇÃO EM CIÊNCIAS SOCIAIS         222\n",
       "PROGRAMA DE PÓS-GRADUAÇÃO EM ECOLOGIA                 207\n",
       "COORDENAÇÃO DO CURSO DE ENFERMAGEM                    196\n",
       "PROGRAMA DE PÓS-GRADUAÇÃO EM QUÍMICA                  178\n",
       "Name: nome_unidade_custo, dtype: int64"
      ]
     },
     "execution_count": 30,
     "metadata": {},
     "output_type": "execute_result"
    }
   ],
   "source": [
    "#top 10 de unidades que mais solicitam requisições de auxílio financeiro\n",
    "top10_uni_custo = auxilios.nome_unidade_custo.value_counts()[:10]    \n",
    "top10_uni_custo"
   ]
  },
  {
   "cell_type": "code",
   "execution_count": 66,
   "metadata": {},
   "outputs": [
    {
     "data": {
      "image/png": "[encoded data removed]",
      "text/plain": [
       "<matplotlib.figure.Figure at 0x9eb47b8>"
      ]
     },
     "metadata": {},
     "output_type": "display_data"
    }
   ],
   "source": [
    "plt.bar(range(10), top10_uni_custo.values)\n",
    "plt.xticks(range(10), ['AFE', 'CCHLA', 'PPE', 'EMUF', 'PPEL', 'FACISA', 'PPCS', 'PPEC', 'CCEnf', 'PPQ'] )\n",
    "plt.show()"
   ]
  },
  {
   "cell_type": "markdown",
   "metadata": {},
   "source": [
    "#### Quais Unidades Requisitantes possuem mais solicitações de Auxílio Financeiro?"
   ]
  },
  {
   "cell_type": "code",
   "execution_count": 34,
   "metadata": {},
   "outputs": [
    {
     "data": {
      "text/plain": [
       "CCHLA - SECRETARIA ADMINISTRAÇÃO DO CCHLA            900\n",
       "ESCOLA DE MÚSICA                                     347\n",
       "PROGRAMA DE PÓS-GRADUAÇÃO EM EDUCAÇÃO                267\n",
       "PROGRAMA DE PÓS-GRADUAÇÃO EM ESTUDOS DA LINGUAGEM    249\n",
       "COORDENAÇÃO DO CURSO DE ENFERMAGEM                   240\n",
       "ADMINISTRAÇÃO DO CERES - CAICÓ                       221\n",
       "COORDENAÇÃO DO CURSO DE MEDICINA                     220\n",
       "PROGRAMA DE PÓS-GRADUAÇÃO EM CIÊNCIAS SOCIAIS        219\n",
       "PROGRAMA DE PÓS-GRADUAÇÃO EM ECOLOGIA                201\n",
       "ESCOLA DE CIÊNCIAS E TECNOLOGIA                      201\n",
       "Name: nome_unidade_requisitante, dtype: int64"
      ]
     },
     "execution_count": 34,
     "metadata": {},
     "output_type": "execute_result"
    }
   ],
   "source": [
    "#top 10 de unidades que mais solicitam requisições de auxílio financeiro\n",
    "top10_uni_req = auxilios.nome_unidade_requisitante.value_counts()[:10]   \n",
    "top10_uni_req"
   ]
  },
  {
   "cell_type": "code",
   "execution_count": 58,
   "metadata": {},
   "outputs": [
    {
     "data": {
      "image/png": "[encoded data removed]",
      "text/plain": [
       "<Figure size 432x288 with 1 Axes>"
      ]
     },
     "metadata": {},
     "output_type": "display_data"
    }
   ],
   "source": [
    "plt.bar(range(10), top10_uni_req.values)\n",
    "plt.xticks(range(10), ['CCHLA', 'EMUF', 'PPE', 'PPEL', 'CCEnf', 'ACC', 'CCMed', 'PPCS', 'PPEco', 'ECeT'] )\n",
    "plt.show()"
   ]
  },
  {
   "cell_type": "code",
   "execution_count": 35,
   "metadata": {},
   "outputs": [
    {
     "data": {
      "text/plain": [
       "array(['ENVIADA', 'CADASTRADA', 'AGUARDANDO_AUTORIZACAO_SAE', 'LIQUIDADA',\n",
       "       'ATENDIDA', 'ESTORNADA', 'FINALIZADA', 'EM_LIQUIDACAO',\n",
       "       'A_EMPENHAR', 'EMPENHO_ANULADO', 'NEGADA', 'CANCELADA\\n'], dtype=object)"
      ]
     },
     "execution_count": 35,
     "metadata": {},
     "output_type": "execute_result"
    }
   ],
   "source": [
    "auxilios.status.unique()"
   ]
  },
  {
   "cell_type": "code",
   "execution_count": 36,
   "metadata": {
    "scrolled": true
   },
   "outputs": [
    {
     "data": {
      "text/plain": [
       "EM_LIQUIDACAO                 7432\n",
       "LIQUIDADA                     2476\n",
       "FINALIZADA                    2033\n",
       "ESTORNADA                     1509\n",
       "ENVIADA                        314\n",
       "CADASTRADA                     204\n",
       "A_EMPENHAR                     147\n",
       "EMPENHO_ANULADO                 40\n",
       "ATENDIDA                        16\n",
       "AGUARDANDO_AUTORIZACAO_SAE       8\n",
       "NEGADA                           3\n",
       "CANCELADA\\n                      1\n",
       "Name: status, dtype: int64"
      ]
     },
     "execution_count": 36,
     "metadata": {},
     "output_type": "execute_result"
    }
   ],
   "source": [
    "auxilios.status.value_counts()"
   ]
  },
  {
   "cell_type": "code",
   "execution_count": 140,
   "metadata": {},
   "outputs": [
    {
     "data": {
      "image/png": "[encoded data removed]",
      "text/plain": [
       "<matplotlib.figure.Figure at 0xa281b00>"
      ]
     },
     "metadata": {},
     "output_type": "display_data"
    }
   ],
   "source": [
    "import numpy as np\n",
    "import matplotlib.pyplot as plt\n",
    "\n",
    "fig, ax = plt.subplots(figsize=(10, 25), subplot_kw=dict(aspect=\"equal\"))\n",
    "\n",
    "\n",
    "status = auxilios.status.value_counts().values\n",
    "ingredients = auxilios.status.value_counts().index\n",
    "\n",
    "\n",
    "def func(pct, allvals):\n",
    "    absolute = int(pct/100.*np.sum(allvals))\n",
    "    return \"{:.1f}%\\n({:d})\".format(pct, absolute)\n",
    "\n",
    "\n",
    "wedges, texts, autotexts = ax.pie(status, autopct=lambda pct: func(pct, status),\n",
    "                                  textprops=dict(color=\"w\"))\n",
    "\n",
    "ax.legend(wedges, ingredients,\n",
    "          title=\"Status\",\n",
    "          loc=\"center left\",\n",
    "          bbox_to_anchor=(1, 0, 0.5, 1))\n",
    "\n",
    "plt.setp(autotexts, size=15, weight=\"bold\")\n",
    "\n",
    "ax.set_title(\"Status de Requisições de Auxílio Financeiro\")\n",
    "plt.show()"
   ]
  },
  {
   "cell_type": "code",
   "execution_count": 92,
   "metadata": {
    "collapsed": true
   },
   "outputs": [],
   "source": [
    "valores_ano = [auxilios[auxilios['ano']==value].valor.sum()/1000000 for value in auxilios.ano.unique() ]\n",
    "anos = auxilios.ano.unique()"
   ]
  },
  {
   "cell_type": "code",
   "execution_count": 69,
   "metadata": {},
   "outputs": [
    {
     "data": {
      "text/plain": [
       "array([2018, 2017, 2016, 2015, 2014, 2013, 2012, 2011, 2010, 2009],\n",
       "      dtype=int64)"
      ]
     },
     "execution_count": 69,
     "metadata": {},
     "output_type": "execute_result"
    }
   ],
   "source": [
    "auxilios.ano.unique()"
   ]
  },
  {
   "cell_type": "code",
   "execution_count": 95,
   "metadata": {},
   "outputs": [],
   "source": [
    "valores_ano_autorizado = []\n",
    "for ano in anos:\n",
    "    sum_ano = 0\n",
    "    for value in ['LIQUIDADA', 'ATENDIDA', 'FINALIZADA', 'EM_LIQUIDACAO']:\n",
    "        auxilios_ano = auxilios[auxilios.ano == ano]\n",
    "        sum_ano += auxilios_ano[auxilios_ano.status==value].valor.sum()/1000000\n",
    "    valores_ano_autorizado.append(sum_ano)"
   ]
  },
  {
   "cell_type": "code",
   "execution_count": 96,
   "metadata": {},
   "outputs": [
    {
     "data": {
      "text/plain": [
       "[1.63321359,\n",
       " 2.0986917600000004,\n",
       " 1.72818176,\n",
       " 2.0568789300000003,\n",
       " 2.8158120600000007,\n",
       " 2.26644297,\n",
       " 1.64668029,\n",
       " 1.1455254800000003,\n",
       " 0.6255667699999998,\n",
       " 0.25264299000000007]"
      ]
     },
     "execution_count": 96,
     "metadata": {},
     "output_type": "execute_result"
    }
   ],
   "source": [
    "valores_ano_autorizado"
   ]
  },
  {
   "cell_type": "code",
   "execution_count": 97,
   "metadata": {},
   "outputs": [
    {
     "data": {
      "text/plain": [
       "[1.8440873199999996,\n",
       " 2.4403325799999993,\n",
       " 1.97773206,\n",
       " 2.38353182,\n",
       " 3.269617909999999,\n",
       " 2.6100530000000006,\n",
       " 1.9242175799999999,\n",
       " 1.3655308699999993,\n",
       " 0.7118596599999998,\n",
       " 0.28546753]"
      ]
     },
     "execution_count": 97,
     "metadata": {},
     "output_type": "execute_result"
    }
   ],
   "source": [
    "valores_ano"
   ]
  },
  {
   "cell_type": "code",
   "execution_count": 118,
   "metadata": {},
   "outputs": [
    {
     "data": {
      "image/png": "[encoded data removed]",
      "text/plain": [
       "<matplotlib.figure.Figure at 0x9ee9668>"
      ]
     },
     "metadata": {},
     "output_type": "display_data"
    }
   ],
   "source": [
    "fig, ax = plt.subplots()\n",
    "bar_larg = 0.4\n",
    "transp = 0.7\n",
    "plt.bar(anos, valores_ano, bar_larg, alpha=1, color='blue', label='Total Solicitado')\n",
    "plt.bar(anos, valores_ano_autorizado, bar_larg, alpha=1, color='green', label='Total Autorizado')\n",
    "\n",
    "plt.xlabel('anos') \n",
    "plt.ylabel('Valores (milhões de reais)') \n",
    "plt.title(\"Orçamentos Baseados no Total de Solicitações Durante os Anos\") \n",
    "plt.xticks( anos) \n",
    "plt.legend() \n",
    "plt.tight_layout() \n",
    "plt.show()"
   ]
  },
  {
   "cell_type": "code",
   "execution_count": 147,
   "metadata": {},
   "outputs": [
    {
     "data": {
      "image/png": "[encoded data removed]",
      "text/plain": [
       "<matplotlib.figure.Figure at 0xbfab710>"
      ]
     },
     "metadata": {},
     "output_type": "display_data"
    }
   ],
   "source": [
    "plt.plot(anos, valores_ano, 'r')\n",
    "plt.scatter(anos, valores_ano, color='red')\n",
    "plt.xlabel(\"Ano\")\n",
    "plt.ylabel(\"Valor Orçamentário (milhóes de reais)\")\n",
    "plt.xticks(anos)\n",
    "plt.title(\"Orçamentos Baseados no Total de Solicitações Durante os Anos\")\n",
    "plt.show()"
   ]
  },
  {
   "cell_type": "markdown",
   "metadata": {},
   "source": [
    "Em 2014 ocorreu o pico das solicitações de assistência, com descida nos dois anos seguintes, e novamente almentado três anos depois"
   ]
  },
  {
   "cell_type": "code",
   "execution_count": 148,
   "metadata": {
    "collapsed": true
   },
   "outputs": [],
   "source": [
    "from bokeh.plotting import figure, show\n",
    "vbar = figure(plot_width=500, plot_height=400)\n",
    "vbar.vbar(x=anos, width=0.8, top=valores_ano, color=\"firebrick\")\n",
    "show(vbar)"
   ]
  },
  {
   "cell_type": "code",
   "execution_count": 149,
   "metadata": {
    "collapsed": true
   },
   "outputs": [],
   "source": [
    "valores_num_benef = [auxilios[auxilios['ano']==value].numero_alunos_beneficiados.sum() for value in auxilios.ano.unique() ]"
   ]
  },
  {
   "cell_type": "code",
   "execution_count": 150,
   "metadata": {},
   "outputs": [
    {
     "data": {
      "text/plain": [
       "[2260, 3579, 3559, 3792, 5381, 4309, 3604, 3097, 2056, 771]"
      ]
     },
     "execution_count": 150,
     "metadata": {},
     "output_type": "execute_result"
    }
   ],
   "source": [
    "valores_num_benef"
   ]
  },
  {
   "cell_type": "code",
   "execution_count": 154,
   "metadata": {
    "collapsed": true
   },
   "outputs": [],
   "source": [
    "valores_num_benef_auto =[]\n",
    "for ano in anos:\n",
    "    sum_ano = 0\n",
    "    for value in ['LIQUIDADA', 'ATENDIDA', 'FINALIZADA', 'EM_LIQUIDACAO']:\n",
    "        auxilios_ano = auxilios[auxilios.ano == ano]\n",
    "        sum_ano += auxilios_ano[auxilios_ano.status==value].numero_alunos_beneficiados.sum()\n",
    "    valores_num_benef_auto.append(sum_ano)"
   ]
  },
  {
   "cell_type": "code",
   "execution_count": 155,
   "metadata": {},
   "outputs": [
    {
     "data": {
      "text/plain": [
       "[1990, 3200, 3105, 3232, 4682, 3736, 3024, 2629, 1817, 729]"
      ]
     },
     "execution_count": 155,
     "metadata": {},
     "output_type": "execute_result"
    }
   ],
   "source": [
    "valores_num_benef_auto"
   ]
  },
  {
   "cell_type": "code",
   "execution_count": 161,
   "metadata": {},
   "outputs": [
    {
     "data": {
      "image/png": "[encoded data removed]",
      "text/plain": [
       "<matplotlib.figure.Figure at 0xc540320>"
      ]
     },
     "metadata": {},
     "output_type": "display_data"
    }
   ],
   "source": [
    "plt.plot(anos, valores_num_benef, 'r')\n",
    "plt.plot(anos, valores_num_benef_auto, 'g')\n",
    "plt.scatter(anos, valores_num_benef, color='red')\n",
    "plt.scatter(anos, valores_num_benef_auto, color='green')\n",
    "plt.xlabel(\"Ano\")\n",
    "plt.ylabel(\"Número de Alunos Beneficiados\")\n",
    "plt.xticks(anos)\n",
    "plt.title(\"Número de Alunos Beneficiados por Ano\")\n",
    "plt.show()"
   ]
  },
  {
   "cell_type": "code",
   "execution_count": null,
   "metadata": {
    "collapsed": true
   },
   "outputs": [],
   "source": []
  }
 ],
 "metadata": {
  "kernelspec": {
   "display_name": "Python 3",
   "language": "python",
   "name": "python3"
  },
  "language_info": {
   "codemirror_mode": {
    "name": "ipython",
    "version": 3
   },
   "file_extension": ".py",
   "mimetype": "text/x-python",
   "name": "python",
   "nbconvert_exporter": "python",
   "pygments_lexer": "ipython3",
   "version": "3.6.1"
  }
 },
 "nbformat": 4,
 "nbformat_minor": 2
}
